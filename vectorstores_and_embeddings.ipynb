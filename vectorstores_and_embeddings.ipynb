{
  "cells": [
    {
      "cell_type": "markdown",
      "id": "0d647f70",
      "metadata": {
        "id": "0d647f70"
      },
      "source": [
        "# Vectorstores and Embeddings\n",
        "\n",
        "Recall the overall workflow for retrieval augmented generation (RAG):"
      ]
    },
    {
      "cell_type": "markdown",
      "id": "125247c2",
      "metadata": {
        "id": "125247c2"
      },
      "source": [
        "![overview.jpeg](attachment:overview.jpeg)"
      ]
    },
    {
      "cell_type": "code",
      "execution_count": null,
      "id": "7f8d2266-4a35-4904-ae9d-c89790c5ae61",
      "metadata": {
        "height": 166,
        "tags": [],
        "id": "7f8d2266-4a35-4904-ae9d-c89790c5ae61"
      },
      "outputs": [],
      "source": [
        "import os\n",
        "import openai\n",
        "import sys\n",
        "sys.path.append('../..')\n",
        "\n",
        "from dotenv import load_dotenv, find_dotenv\n",
        "_ = load_dotenv(find_dotenv()) # read local .env file\n",
        "\n",
        "openai.api_key  = os.environ['OPENAI_API_KEY']"
      ]
    },
    {
      "cell_type": "markdown",
      "id": "460a54b0",
      "metadata": {
        "id": "460a54b0"
      },
      "source": [
        "We just discussed `Document Loading` and `Splitting`."
      ]
    },
    {
      "cell_type": "code",
      "execution_count": null,
      "id": "2437469e",
      "metadata": {
        "height": 234,
        "tags": [],
        "id": "2437469e"
      },
      "outputs": [],
      "source": [
        "from langchain.document_loaders import PyPDFLoader\n",
        "\n",
        "\n",
        "\n",
        "# Load PDF\n",
        "loaders = [\n",
        "    # Duplicate documents on purpose - messy data\n",
        "    PyPDFLoader(\"docs/cs229_lectures/MachineLearning-Lecture01.pdf\"),\n",
        "    PyPDFLoader(\"docs/cs229_lectures/MachineLearning-Lecture01.pdf\"),\n",
        "    PyPDFLoader(\"docs/cs229_lectures/MachineLearning-Lecture02.pdf\"),\n",
        "    PyPDFLoader(\"docs/cs229_lectures/MachineLearning-Lecture03.pdf\")\n",
        "]\n",
        "docs = []\n",
        "for loader in loaders:\n",
        "    docs.extend(loader.load())"
      ]
    },
    {
      "cell_type": "code",
      "execution_count": null,
      "id": "eb44bf0d",
      "metadata": {
        "height": 115,
        "tags": [],
        "id": "eb44bf0d"
      },
      "outputs": [],
      "source": [
        "# Split\n",
        "from langchain.text_splitter import RecursiveCharacterTextSplitter\n",
        "text_splitter = RecursiveCharacterTextSplitter(\n",
        "    chunk_size = 1500,\n",
        "    chunk_overlap = 150\n",
        ")"
      ]
    },
    {
      "cell_type": "code",
      "execution_count": null,
      "id": "b71e46cc",
      "metadata": {
        "height": 30,
        "tags": [],
        "id": "b71e46cc"
      },
      "outputs": [],
      "source": [
        "splits = text_splitter.split_documents(docs)"
      ]
    },
    {
      "cell_type": "code",
      "execution_count": null,
      "id": "e061f22d",
      "metadata": {
        "height": 30,
        "tags": [],
        "id": "e061f22d"
      },
      "outputs": [],
      "source": [
        "len(splits)"
      ]
    },
    {
      "cell_type": "markdown",
      "id": "848e26fd",
      "metadata": {
        "id": "848e26fd"
      },
      "source": [
        "## Embeddings\n",
        "\n",
        "Let's take our splits and embed them."
      ]
    },
    {
      "cell_type": "code",
      "execution_count": null,
      "id": "d9dca7a8",
      "metadata": {
        "height": 47,
        "tags": [],
        "id": "d9dca7a8"
      },
      "outputs": [],
      "source": [
        "from langchain.embeddings.openai import OpenAIEmbeddings\n",
        "embedding = OpenAIEmbeddings()"
      ]
    },
    {
      "cell_type": "code",
      "execution_count": null,
      "id": "c4099521",
      "metadata": {
        "height": 64,
        "tags": [],
        "id": "c4099521"
      },
      "outputs": [],
      "source": [
        "sentence1 = \"i like dogs\"\n",
        "sentence2 = \"i like canines\"\n",
        "sentence3 = \"the weather is ugly outside\""
      ]
    },
    {
      "cell_type": "code",
      "execution_count": null,
      "id": "d553549a",
      "metadata": {
        "height": 64,
        "tags": [],
        "id": "d553549a"
      },
      "outputs": [],
      "source": [
        "embedding1 = embedding.embed_query(sentence1)\n",
        "embedding2 = embedding.embed_query(sentence2)\n",
        "embedding3 = embedding.embed_query(sentence3)"
      ]
    },
    {
      "cell_type": "code",
      "execution_count": null,
      "id": "0cbe9a9e",
      "metadata": {
        "height": 30,
        "tags": [],
        "id": "0cbe9a9e"
      },
      "outputs": [],
      "source": [
        "import numpy as np"
      ]
    },
    {
      "cell_type": "code",
      "execution_count": null,
      "id": "49fc0f8f",
      "metadata": {
        "height": 30,
        "tags": [],
        "id": "49fc0f8f"
      },
      "outputs": [],
      "source": [
        "np.dot(embedding1, embedding2)"
      ]
    },
    {
      "cell_type": "code",
      "execution_count": null,
      "id": "32a1fac7",
      "metadata": {
        "height": 30,
        "tags": [],
        "id": "32a1fac7"
      },
      "outputs": [],
      "source": [
        "np.dot(embedding1, embedding3)"
      ]
    },
    {
      "cell_type": "code",
      "execution_count": null,
      "id": "9dd18328",
      "metadata": {
        "height": 30,
        "tags": [],
        "id": "9dd18328"
      },
      "outputs": [],
      "source": [
        "np.dot(embedding2, embedding3)"
      ]
    },
    {
      "cell_type": "markdown",
      "id": "4fc7b24f",
      "metadata": {
        "id": "4fc7b24f"
      },
      "source": [
        "## Vectorstores"
      ]
    },
    {
      "cell_type": "code",
      "execution_count": null,
      "id": "da2213e6",
      "metadata": {
        "height": 30,
        "tags": [],
        "id": "da2213e6"
      },
      "outputs": [],
      "source": [
        "# ! pip install chromadb"
      ]
    },
    {
      "cell_type": "code",
      "execution_count": null,
      "id": "201e6afa",
      "metadata": {
        "height": 30,
        "tags": [],
        "id": "201e6afa"
      },
      "outputs": [],
      "source": [
        "from langchain.vectorstores import Chroma"
      ]
    },
    {
      "cell_type": "code",
      "execution_count": null,
      "id": "93960ac5",
      "metadata": {
        "height": 30,
        "tags": [],
        "id": "93960ac5"
      },
      "outputs": [],
      "source": [
        "persist_directory = 'docs/chroma/'"
      ]
    },
    {
      "cell_type": "code",
      "execution_count": null,
      "id": "a195e72a",
      "metadata": {
        "height": 30,
        "tags": [],
        "id": "a195e72a"
      },
      "outputs": [],
      "source": [
        "!rm -rf ./docs/chroma  # remove old database files if any"
      ]
    },
    {
      "cell_type": "code",
      "execution_count": null,
      "id": "690efd0a",
      "metadata": {
        "height": 98,
        "tags": [],
        "id": "690efd0a"
      },
      "outputs": [],
      "source": [
        "vectordb = Chroma.from_documents(\n",
        "    documents=splits,\n",
        "    embedding=embedding,\n",
        "    persist_directory=persist_directory\n",
        ")"
      ]
    },
    {
      "cell_type": "code",
      "execution_count": null,
      "id": "f777480c",
      "metadata": {
        "height": 30,
        "tags": [],
        "id": "f777480c"
      },
      "outputs": [],
      "source": [
        "print(vectordb._collection.count())"
      ]
    },
    {
      "cell_type": "markdown",
      "id": "efca7589",
      "metadata": {
        "id": "efca7589"
      },
      "source": [
        "### Similarity Search"
      ]
    },
    {
      "cell_type": "code",
      "execution_count": null,
      "id": "3e20837d",
      "metadata": {
        "height": 30,
        "tags": [],
        "id": "3e20837d"
      },
      "outputs": [],
      "source": [
        "question = \"is there an email i can ask for help\""
      ]
    },
    {
      "cell_type": "code",
      "execution_count": null,
      "id": "f9bde572",
      "metadata": {
        "height": 30,
        "tags": [],
        "id": "f9bde572"
      },
      "outputs": [],
      "source": [
        "docs = vectordb.similarity_search(question,k=3)"
      ]
    },
    {
      "cell_type": "code",
      "execution_count": null,
      "id": "41388af1",
      "metadata": {
        "height": 30,
        "tags": [],
        "id": "41388af1"
      },
      "outputs": [],
      "source": [
        "len(docs)"
      ]
    },
    {
      "cell_type": "code",
      "execution_count": null,
      "id": "183434f6",
      "metadata": {
        "height": 30,
        "tags": [],
        "id": "183434f6"
      },
      "outputs": [],
      "source": [
        "docs[0].page_content"
      ]
    },
    {
      "cell_type": "markdown",
      "id": "1edb21d8",
      "metadata": {
        "id": "1edb21d8"
      },
      "source": [
        "Let's save this so we can use it later!"
      ]
    },
    {
      "cell_type": "code",
      "execution_count": null,
      "id": "ea657123",
      "metadata": {
        "height": 30,
        "tags": [],
        "id": "ea657123"
      },
      "outputs": [],
      "source": [
        "vectordb.persist()"
      ]
    },
    {
      "cell_type": "markdown",
      "id": "cefe9f6a",
      "metadata": {
        "id": "cefe9f6a"
      },
      "source": [
        "## Failure modes\n",
        "\n",
        "This seems great, and basic similarity search will get you 80% of the way there very easily.\n",
        "\n",
        "But there are some failure modes that can creep up.\n",
        "\n",
        "Here are some edge cases that can arise - we'll fix them in the next class."
      ]
    },
    {
      "cell_type": "code",
      "execution_count": null,
      "id": "df0f29f9",
      "metadata": {
        "height": 30,
        "tags": [],
        "id": "df0f29f9"
      },
      "outputs": [],
      "source": [
        "question = \"what did they say about matlab?\""
      ]
    },
    {
      "cell_type": "code",
      "execution_count": null,
      "id": "02be97df",
      "metadata": {
        "height": 30,
        "tags": [],
        "id": "02be97df"
      },
      "outputs": [],
      "source": [
        "docs = vectordb.similarity_search(question,k=5)"
      ]
    },
    {
      "cell_type": "markdown",
      "id": "2a9f579e",
      "metadata": {
        "id": "2a9f579e"
      },
      "source": [
        "Notice that we're getting duplicate chunks (because of the duplicate `MachineLearning-Lecture01.pdf` in the index).\n",
        "\n",
        "Semantic search fetches all similar documents, but does not enforce diversity.\n",
        "\n",
        "`docs[0]` and `docs[1]` are indentical."
      ]
    },
    {
      "cell_type": "code",
      "execution_count": null,
      "id": "d39f6954",
      "metadata": {
        "height": 30,
        "tags": [],
        "id": "d39f6954"
      },
      "outputs": [],
      "source": [
        "docs[0]"
      ]
    },
    {
      "cell_type": "code",
      "execution_count": null,
      "id": "e04e3d1b",
      "metadata": {
        "height": 30,
        "tags": [],
        "id": "e04e3d1b"
      },
      "outputs": [],
      "source": [
        "docs[1]"
      ]
    },
    {
      "cell_type": "markdown",
      "id": "3a3a915d",
      "metadata": {
        "id": "3a3a915d"
      },
      "source": [
        "We can see a new failure mode.\n",
        "\n",
        "The question below asks a question about the third lecture, but includes results from other lectures as well."
      ]
    },
    {
      "cell_type": "code",
      "execution_count": null,
      "id": "b19135e5",
      "metadata": {
        "height": 30,
        "tags": [],
        "id": "b19135e5"
      },
      "outputs": [],
      "source": [
        "question = \"what did they say about regression in the third lecture?\""
      ]
    },
    {
      "cell_type": "code",
      "execution_count": null,
      "id": "d434942c",
      "metadata": {
        "height": 30,
        "tags": [],
        "id": "d434942c"
      },
      "outputs": [],
      "source": [
        "docs = vectordb.similarity_search(question,k=5)"
      ]
    },
    {
      "cell_type": "code",
      "execution_count": null,
      "id": "c2c5df59",
      "metadata": {
        "height": 47,
        "tags": [],
        "id": "c2c5df59"
      },
      "outputs": [],
      "source": [
        "for doc in docs:\n",
        "    print(doc.metadata)"
      ]
    },
    {
      "cell_type": "code",
      "execution_count": null,
      "id": "8e6cb50c",
      "metadata": {
        "height": 30,
        "tags": [],
        "id": "8e6cb50c"
      },
      "outputs": [],
      "source": [
        "print(docs[4].page_content)"
      ]
    },
    {
      "cell_type": "markdown",
      "id": "c3dbca56",
      "metadata": {
        "id": "c3dbca56"
      },
      "source": [
        "Approaches discussed in the next lecture can be used to address both!"
      ]
    },
    {
      "cell_type": "code",
      "execution_count": null,
      "id": "8cdc67ae-59e0-4a84-9fe6-e3a0391114d0",
      "metadata": {
        "height": 30,
        "id": "8cdc67ae-59e0-4a84-9fe6-e3a0391114d0"
      },
      "outputs": [],
      "source": []
    }
  ],
  "metadata": {
    "kernelspec": {
      "display_name": "Python 3 (ipykernel)",
      "language": "python",
      "name": "python3"
    },
    "language_info": {
      "codemirror_mode": {
        "name": "ipython",
        "version": 3
      },
      "file_extension": ".py",
      "mimetype": "text/x-python",
      "name": "python",
      "nbconvert_exporter": "python",
      "pygments_lexer": "ipython3",
      "version": "3.9.19"
    },
    "colab": {
      "provenance": []
    }
  },
  "nbformat": 4,
  "nbformat_minor": 5
}