{
  "nbformat": 4,
  "nbformat_minor": 0,
  "metadata": {
    "colab": {
      "provenance": []
    },
    "kernelspec": {
      "name": "python3",
      "display_name": "Python 3"
    },
    "language_info": {
      "name": "python"
    }
  },
  "cells": [
    {
      "cell_type": "code",
      "execution_count": 2,
      "metadata": {
        "id": "pDfqBmdPVJ9Q"
      },
      "outputs": [],
      "source": [
        "import warnings\n",
        "\n",
        "warnings.filterwarnings(\"ignore\")"
      ]
    },
    {
      "cell_type": "code",
      "source": [
        "#!pip install langchain\n",
        "import langchain"
      ],
      "metadata": {
        "id": "2lEhsIw1VV7u"
      },
      "execution_count": 5,
      "outputs": []
    },
    {
      "cell_type": "code",
      "source": [
        "#!pip install langchain-openai"
      ],
      "metadata": {
        "id": "ajWX_WWgVghf"
      },
      "execution_count": 7,
      "outputs": []
    },
    {
      "cell_type": "code",
      "source": [
        "from langchain_openai import ChatOpenAI\n",
        "\n"
      ],
      "metadata": {
        "id": "bi_BlOzgV5n_"
      },
      "execution_count": 8,
      "outputs": []
    },
    {
      "cell_type": "code",
      "source": [
        "chat = ChatOpenAI(temperature=0, model=\"gpt-4o\", api_key=\"...\")"
      ],
      "metadata": {
        "id": "m1R1TIbIWHUP"
      },
      "execution_count": 11,
      "outputs": []
    },
    {
      "cell_type": "code",
      "source": [
        "chat(\"Test\")"
      ],
      "metadata": {
        "colab": {
          "base_uri": "https://localhost:8080/"
        },
        "id": "Cx-ntQiiWT6n",
        "outputId": "08b0f780-9085-46fb-dfa9-32952b333f65"
      },
      "execution_count": 12,
      "outputs": [
        {
          "output_type": "execute_result",
          "data": {
            "text/plain": [
              "AIMessage(content=\"It looks like you're testing the system. How can I assist you today?\", response_metadata={'token_usage': {'completion_tokens': 15, 'prompt_tokens': 8, 'total_tokens': 23}, 'model_name': 'gpt-4o-2024-05-13', 'system_fingerprint': 'fp_dd932ca5d1', 'finish_reason': 'stop', 'logprobs': None}, id='run-663463c1-0188-43d9-a949-4bf4230493a3-0', usage_metadata={'input_tokens': 8, 'output_tokens': 15, 'total_tokens': 23})"
            ]
          },
          "metadata": {},
          "execution_count": 12
        }
      ]
    },
    {
      "cell_type": "code",
      "source": [
        "from langchain.prompts import ChatPromptTemplate\n",
        "\n",
        "template_string = \"\"\"我想要學習{lang}\n",
        "我是一個程式語言的{level}\n",
        "請仔細地告訴我如何寫一個{social}爬蟲\n",
        "\"\"\""
      ],
      "metadata": {
        "id": "H7MVuJlpWZD_"
      },
      "execution_count": 13,
      "outputs": []
    },
    {
      "cell_type": "code",
      "source": [
        "prompt_template = ChatPromptTemplate.from_template(template_string)\n",
        "prompt_template"
      ],
      "metadata": {
        "colab": {
          "base_uri": "https://localhost:8080/"
        },
        "id": "IQIm1g6kajKH",
        "outputId": "6e6366ef-a61f-4feb-a9a4-d4a8f7bf4386"
      },
      "execution_count": 14,
      "outputs": [
        {
          "output_type": "execute_result",
          "data": {
            "text/plain": [
              "ChatPromptTemplate(input_variables=['lang', 'level', 'social'], messages=[HumanMessagePromptTemplate(prompt=PromptTemplate(input_variables=['lang', 'level', 'social'], template='我想要學習{lang}\\n我是一個程式語言的{level}\\n請仔細地告訴我如何寫一個{social}爬蟲\\n'))])"
            ]
          },
          "metadata": {},
          "execution_count": 14
        }
      ]
    },
    {
      "cell_type": "code",
      "source": [
        "chat_message = prompt_template.format_messages(lang=\"python\", level=\"新手\", social=\"PTT\")"
      ],
      "metadata": {
        "id": "E2GABBd_atyY"
      },
      "execution_count": 16,
      "outputs": []
    },
    {
      "cell_type": "code",
      "source": [
        "response = chat(chat_message[0].content)"
      ],
      "metadata": {
        "id": "X1bEUeg4bCvZ"
      },
      "execution_count": 23,
      "outputs": []
    },
    {
      "cell_type": "code",
      "source": [
        "response.content"
      ],
      "metadata": {
        "colab": {
          "base_uri": "https://localhost:8080/",
          "height": 140
        },
        "id": "9Mqo9uAnbPxf",
        "outputId": "4af644cf-a96a-4ee8-e9f2-f264017bd456"
      },
      "execution_count": 24,
      "outputs": [
        {
          "output_type": "execute_result",
          "data": {
            "text/plain": [
              "\"學習Python是一個很好的選擇，特別是對於新手來說。Python語法簡單易懂，並且有豐富的庫和框架可以使用。寫一個PTT爬蟲是一個很好的練習，可以幫助你學習網頁抓取和數據處理的基本知識。\\n\\n以下是一步一步教你如何寫一個簡單的PTT爬蟲：\\n\\n### 1. 安裝必要的庫\\n首先，你需要安裝一些Python庫來幫助你進行網頁抓取和解析。你可以使用`pip`來安裝這些庫。\\n\\n```bash\\npip install requests beautifulsoup4\\n```\\n\\n### 2. 引入必要的庫\\n在你的Python腳本中引入剛才安裝的庫。\\n\\n```python\\nimport requests\\nfrom bs4 import BeautifulSoup\\n```\\n\\n### 3. 發送HTTP請求\\n使用`requests`庫來發送HTTP請求，獲取PTT頁面的HTML內容。\\n\\n```python\\nurl = 'https://www.ptt.cc/bbs/Gossiping/index.html'\\nheaders = {\\n    'User-Agent': 'Mozilla/5.0 (Windows NT 10.0; Win64; x64) AppleWebKit/537.36 (KHTML, like Gecko) Chrome/58.0.3029.110 Safari/537.3'}\\ncookies = {'over18': '1'}\\n\\nresponse = requests.get(url, headers=headers, cookies=cookies)\\nhtml_content = response.text\\n```\\n\\n### 4. 解析HTML\\n使用`BeautifulSoup`來解析HTML內容。\\n\\n```python\\nsoup = BeautifulSoup(html_content, 'html.parser')\\n```\\n\\n### 5. 提取數據\\n找到你感興趣的數據並提取出來。例如，提取文章標題和連結。\\n\\n```python\\narticles = soup.find_all('div', class_='r-ent')\\n\\nfor article in articles:\\n    title_tag = article.find('div', class_='title').a\\n    if title_tag:\\n        title = title_tag.text.strip()\\n        link = 'https://www.ptt.cc' + title_tag['href']\\n        print(f'Title: {title}')\\n        print(f'Link: {link}')\\n```\\n\\n### 6. 完整代碼\\n以下是完整的代碼，將上述步驟結合在一起。\\n\\n```python\\nimport requests\\nfrom bs4 import BeautifulSoup\\n\\nurl = 'https://www.ptt.cc/bbs/Gossiping/index.html'\\nheaders = {\\n    'User-Agent': 'Mozilla/5.0 (Windows NT 10.0; Win64; x64) AppleWebKit/537.36 (KHTML, like Gecko) Chrome/58.0.3029.110 Safari/537.3'}\\ncookies = {'over18': '1'}\\n\\nresponse = requests.get(url, headers=headers, cookies=cookies)\\nhtml_content = response.text\\n\\nsoup = BeautifulSoup(html_content, 'html.parser')\\n\\narticles = soup.find_all('div', class_='r-ent')\\n\\nfor article in articles:\\n    title_tag = article.find('div', class_='title').a\\n    if title_tag:\\n        title = title_tag.text.strip()\\n        link = 'https://www.ptt.cc' + title_tag['href']\\n        print(f'Title: {title}')\\n        print(f'Link: {link}')\\n```\\n\\n### 7. 進一步學習\\n這只是個簡單的例子，實際應用中你可能需要處理更多的情況，比如翻頁、處理異常、數據存儲等。你可以進一步學習以下主題來提升你的爬蟲技能：\\n\\n- 使用`Scrapy`框架進行更高效的網頁抓取\\n- 學習正則表達式來提取更複雜的數據\\n- 使用`pandas`庫來處理和分析數據\\n- 學習如何使用代理和反爬蟲技術來避免被封鎖\\n\\n希望這些步驟能幫助你開始學習Python並寫出一個簡單的PTT爬蟲。祝你學習愉快！\""
            ],
            "application/vnd.google.colaboratory.intrinsic+json": {
              "type": "string"
            }
          },
          "metadata": {},
          "execution_count": 24
        }
      ]
    },
    {
      "cell_type": "code",
      "source": [
        "from langchain.chains import ConversationChain\n",
        "from langchain.memory import ConversationBufferMemory\n",
        "from langchain.memory import ConversationSummaryBufferMemory"
      ],
      "metadata": {
        "id": "lGq4Qbo4cLTA"
      },
      "execution_count": 25,
      "outputs": []
    },
    {
      "cell_type": "code",
      "source": [
        "chat = ChatOpenAI(temperature=0, model=\"gpt-4o\", api_key=\"...\")\n",
        "\n",
        "memory = ConversationBufferMemory()\n",
        "conversation = ConversationChain(\n",
        "    llm=chat,\n",
        "    memory=memory,\n",
        "    verbose=True\n",
        ")"
      ],
      "metadata": {
        "id": "BM5uTfM7ci1R"
      },
      "execution_count": 32,
      "outputs": []
    },
    {
      "cell_type": "code",
      "source": [
        "conversation.predict(input=\"今天星期二\")"
      ],
      "metadata": {
        "colab": {
          "base_uri": "https://localhost:8080/",
          "height": 264
        },
        "id": "DCN0dWdkdDwZ",
        "outputId": "e15ecdfa-5524-42ce-caef-4ab5d255a2ee"
      },
      "execution_count": 33,
      "outputs": [
        {
          "output_type": "stream",
          "name": "stdout",
          "text": [
            "\n",
            "\n",
            "\u001b[1m> Entering new ConversationChain chain...\u001b[0m\n",
            "Prompt after formatting:\n",
            "\u001b[32;1m\u001b[1;3mThe following is a friendly conversation between a human and an AI. The AI is talkative and provides lots of specific details from its context. If the AI does not know the answer to a question, it truthfully says it does not know.\n",
            "\n",
            "Current conversation:\n",
            "\n",
            "Human: 今天星期二\n",
            "AI:\u001b[0m\n",
            "\n",
            "\u001b[1m> Finished chain.\u001b[0m\n"
          ]
        },
        {
          "output_type": "execute_result",
          "data": {
            "text/plain": [
              "'今天是星期二！希望你有一个愉快的一天。你有什么特别的计划吗？或者有什么我可以帮忙的地方？'"
            ],
            "application/vnd.google.colaboratory.intrinsic+json": {
              "type": "string"
            }
          },
          "metadata": {},
          "execution_count": 33
        }
      ]
    },
    {
      "cell_type": "code",
      "source": [
        "conversation.predict(input=\"今天股市好慘怎辦\")"
      ],
      "metadata": {
        "colab": {
          "base_uri": "https://localhost:8080/",
          "height": 333
        },
        "id": "AbP-XY5sdUBI",
        "outputId": "e0761ee3-abe4-4489-887d-3723b8d8c0d3"
      },
      "execution_count": 34,
      "outputs": [
        {
          "output_type": "stream",
          "name": "stdout",
          "text": [
            "\n",
            "\n",
            "\u001b[1m> Entering new ConversationChain chain...\u001b[0m\n",
            "Prompt after formatting:\n",
            "\u001b[32;1m\u001b[1;3mThe following is a friendly conversation between a human and an AI. The AI is talkative and provides lots of specific details from its context. If the AI does not know the answer to a question, it truthfully says it does not know.\n",
            "\n",
            "Current conversation:\n",
            "Human: 今天星期二\n",
            "AI: 今天是星期二！希望你有一个愉快的一天。你有什么特别的计划吗？或者有什么我可以帮忙的地方？\n",
            "Human: 今天股市好慘怎辦\n",
            "AI:\u001b[0m\n",
            "\n",
            "\u001b[1m> Finished chain.\u001b[0m\n"
          ]
        },
        {
          "output_type": "execute_result",
          "data": {
            "text/plain": [
              "'股市波动是很正常的现象，虽然今天的情况可能让人感到不安，但重要的是保持冷静。以下是一些建议，或许能帮到你：\\n\\n1. **不要恐慌**：市场波动是投资的一部分，短期的下跌并不一定意味着长期的损失。\\n2. **评估你的投资组合**：看看你的投资是否多样化，是否符合你的风险承受能力和长期目标。\\n3. **咨询专业人士**：如果你不确定该怎么做，咨询财务顾问或投资专家，他们可以提供专业的建议。\\n4. **关注基本面**：有时候市场情绪会导致短期波动，但公司的基本面（如盈利、增长前景等）才是长期投资的关键。\\n5. **保持长期视角**：如果你是长期投资者，短期的市场波动不应该影响你的长期策略。\\n\\n如果你有具体的股票或投资问题，我可以试着提供更多信息或建议。希望这些建议对你有所帮助！'"
            ],
            "application/vnd.google.colaboratory.intrinsic+json": {
              "type": "string"
            }
          },
          "metadata": {},
          "execution_count": 34
        }
      ]
    },
    {
      "cell_type": "code",
      "source": [
        "conversation.predict(input=\"所以今天星期幾?\")"
      ],
      "metadata": {
        "colab": {
          "base_uri": "https://localhost:8080/",
          "height": 455
        },
        "id": "3CP8SKBMdh7p",
        "outputId": "fb6e8de1-08de-4768-fd63-deb31ad7c9c3"
      },
      "execution_count": 36,
      "outputs": [
        {
          "output_type": "stream",
          "name": "stdout",
          "text": [
            "\n",
            "\n",
            "\u001b[1m> Entering new ConversationChain chain...\u001b[0m\n",
            "Prompt after formatting:\n",
            "\u001b[32;1m\u001b[1;3mThe following is a friendly conversation between a human and an AI. The AI is talkative and provides lots of specific details from its context. If the AI does not know the answer to a question, it truthfully says it does not know.\n",
            "\n",
            "Current conversation:\n",
            "Human: 今天星期二\n",
            "AI: 今天是星期二！希望你有一个愉快的一天。你有什么特别的计划吗？或者有什么我可以帮忙的地方？\n",
            "Human: 今天股市好慘怎辦\n",
            "AI: 股市波动是很正常的现象，虽然今天的情况可能让人感到不安，但重要的是保持冷静。以下是一些建议，或许能帮到你：\n",
            "\n",
            "1. **不要恐慌**：市场波动是投资的一部分，短期的下跌并不一定意味着长期的损失。\n",
            "2. **评估你的投资组合**：看看你的投资是否多样化，是否符合你的风险承受能力和长期目标。\n",
            "3. **咨询专业人士**：如果你不确定该怎么做，咨询财务顾问或投资专家，他们可以提供专业的建议。\n",
            "4. **关注基本面**：有时候市场情绪会导致短期波动，但公司的基本面（如盈利、增长前景等）才是长期投资的关键。\n",
            "5. **保持长期视角**：如果你是长期投资者，短期的市场波动不应该影响你的长期策略。\n",
            "\n",
            "如果你有具体的股票或投资问题，我可以试着提供更多信息或建议。希望这些建议对你有所帮助！\n",
            "Human: 所以今天星期幾?\n",
            "AI:\u001b[0m\n",
            "\n",
            "\u001b[1m> Finished chain.\u001b[0m\n"
          ]
        },
        {
          "output_type": "execute_result",
          "data": {
            "text/plain": [
              "'今天是星期二！希望你能度过一个顺利的一天。如果你有任何其他问题或需要进一步的帮助，请随时告诉我。'"
            ],
            "application/vnd.google.colaboratory.intrinsic+json": {
              "type": "string"
            }
          },
          "metadata": {},
          "execution_count": 36
        }
      ]
    },
    {
      "cell_type": "code",
      "source": [
        "memory.buffer"
      ],
      "metadata": {
        "colab": {
          "base_uri": "https://localhost:8080/",
          "height": 105
        },
        "id": "PcHwy5J4d0JJ",
        "outputId": "72ebfefa-26c1-4442-aa41-45836eb59acb"
      },
      "execution_count": 37,
      "outputs": [
        {
          "output_type": "execute_result",
          "data": {
            "text/plain": [
              "'Human: 今天星期二\\nAI: 今天是星期二！希望你有一个愉快的一天。你有什么特别的计划吗？或者有什么我可以帮忙的地方？\\nHuman: 今天股市好慘怎辦\\nAI: 股市波动是很正常的现象，虽然今天的情况可能让人感到不安，但重要的是保持冷静。以下是一些建议，或许能帮到你：\\n\\n1. **不要恐慌**：市场波动是投资的一部分，短期的下跌并不一定意味着长期的损失。\\n2. **评估你的投资组合**：看看你的投资是否多样化，是否符合你的风险承受能力和长期目标。\\n3. **咨询专业人士**：如果你不确定该怎么做，咨询财务顾问或投资专家，他们可以提供专业的建议。\\n4. **关注基本面**：有时候市场情绪会导致短期波动，但公司的基本面（如盈利、增长前景等）才是长期投资的关键。\\n5. **保持长期视角**：如果你是长期投资者，短期的市场波动不应该影响你的长期策略。\\n\\n如果你有具体的股票或投资问题，我可以试着提供更多信息或建议。希望这些建议对你有所帮助！\\nHuman: 所以今天星期幾?\\nAI: 今天是星期二！希望你能度过一个顺利的一天。如果你有任何其他问题或需要进一步的帮助，请随时告诉我。'"
            ],
            "application/vnd.google.colaboratory.intrinsic+json": {
              "type": "string"
            }
          },
          "metadata": {},
          "execution_count": 37
        }
      ]
    },
    {
      "cell_type": "code",
      "source": [],
      "metadata": {
        "id": "jfB446peeCfI"
      },
      "execution_count": null,
      "outputs": []
    }
  ]
}